{
 "cells": [
  {
   "cell_type": "code",
   "execution_count": 7,
   "id": "0f45dfe2-f0d0-4b2e-b1f8-cc3881885fe8",
   "metadata": {
    "scrolled": true
   },
   "outputs": [
    {
     "name": "stdout",
     "output_type": "stream",
     "text": [
      "시트 목록: ['개요']\n",
      "원본 칼럼: ['url', 'http://datalab.naver.com/keyword/trendResult.naver?hashKey=N_8e4ecd761f63d62d63bf1f7c3fb33ced', 'Unnamed: 2', 'Unnamed: 3', 'Unnamed: 4', 'Unnamed: 5', 'Unnamed: 6', 'Unnamed: 7', 'Unnamed: 8', 'Unnamed: 9']\n",
      "헤더를 한 줄 내린 뒤 칼럼: ['주제', '통검', 'Unnamed: 2', 'Unnamed: 3', 'Unnamed: 4', 'Unnamed: 5', 'Unnamed: 6', 'Unnamed: 7', 'Unnamed: 8', 'Unnamed: 9']\n"
     ]
    },
    {
     "name": "stderr",
     "output_type": "stream",
     "text": [
      "C:\\Users\\hwayo\\AppData\\Local\\Packages\\PythonSoftwareFoundation.Python.3.11_qbz5n2kfra8p0\\LocalCache\\local-packages\\Python311\\site-packages\\openpyxl\\styles\\stylesheet.py:237: UserWarning: Workbook contains no default style, apply openpyxl's default\n",
      "  warn(\"Workbook contains no default style, apply openpyxl's default\")\n",
      "C:\\Users\\hwayo\\AppData\\Local\\Packages\\PythonSoftwareFoundation.Python.3.11_qbz5n2kfra8p0\\LocalCache\\local-packages\\Python311\\site-packages\\openpyxl\\styles\\stylesheet.py:237: UserWarning: Workbook contains no default style, apply openpyxl's default\n",
      "  warn(\"Workbook contains no default style, apply openpyxl's default\")\n"
     ]
    },
    {
     "ename": "AssertionError",
     "evalue": "날짜/기간 칼럼을 찾지 못했어요. df.head()로 형태로 보여주세요",
     "output_type": "error",
     "traceback": [
      "\u001b[31m---------------------------------------------------------------------------\u001b[39m",
      "\u001b[31mAssertionError\u001b[39m                            Traceback (most recent call last)",
      "\u001b[36mCell\u001b[39m\u001b[36m \u001b[39m\u001b[32mIn[7]\u001b[39m\u001b[32m, line 33\u001b[39m\n\u001b[32m     29\u001b[39m             date_col = c\n\u001b[32m     30\u001b[39m             \u001b[38;5;28;01mbreak\u001b[39;00m\n\u001b[32m---> \u001b[39m\u001b[32m33\u001b[39m \u001b[38;5;28;01massert\u001b[39;00m date_col \u001b[38;5;129;01mis\u001b[39;00m \u001b[38;5;129;01mnot\u001b[39;00m \u001b[38;5;28;01mNone\u001b[39;00m, \u001b[33m\"\u001b[39m\u001b[33m날짜/기간 칼럼을 찾지 못했어요. df.head()로 형태로 보여주세요\u001b[39m\u001b[33m\"\u001b[39m\n\u001b[32m     35\u001b[39m \u001b[38;5;66;03m#3) 브랜드 칼럼 후보(한글명 기준)\u001b[39;00m\n\u001b[32m     36\u001b[39m brand_cols = [\u001b[33m\"\u001b[39m\u001b[33m롬앤\u001b[39m\u001b[33m\"\u001b[39m,\u001b[33m\"\u001b[39m\u001b[33m클리오\u001b[39m\u001b[33m\"\u001b[39m,\u001b[33m\"\u001b[39m\u001b[33m에뛰드\u001b[39m\u001b[33m\"\u001b[39m,\u001b[33m\"\u001b[39m\u001b[33m이니스프리\u001b[39m\u001b[33m\"\u001b[39m,\u001b[33m\"\u001b[39m\u001b[33m닥터자르트\u001b[39m\u001b[33m\"\u001b[39m]\n",
      "\u001b[31mAssertionError\u001b[39m: 날짜/기간 칼럼을 찾지 못했어요. df.head()로 형태로 보여주세요"
     ]
    }
   ],
   "source": [
    "import pandas as pd\n",
    "from pathlib import Path\n",
    "\n",
    "RAW = Path(\"../data/raw\")\n",
    "PROC = Path(\"../data/processed\")\n",
    "PROC.mkdir(parents=True, exist_ok=True)\n",
    "\n",
    "#1) 엑셀 읽기\n",
    "xlsx_path = RAW / \"search_index_raw.xlsx\"   # ✅ 변수명 + 확장자 둘 다 올바름\n",
    "xls = pd.ExcelFile(xlsx_path)\n",
    "print(\"시트 목록:\", xls.sheet_names)\n",
    "\n",
    "#첫 시트에 존재하는 데이터 읽기\n",
    "df = pd.read_excel(xlsx_path, sheet_name=xls.sheet_names[0])\n",
    "print(\"원본 칼럼:\", list(df.columns))\n",
    "\n",
    "#2) 날짜(기간) 칼럼 이름 감지\n",
    "date_col_candidates = [\"기간\",\"날짜\",\"Date\",\"date\"]\n",
    "date_col = None\n",
    "for c in date_col_candidates:\n",
    "    if c in df.columns:\n",
    "        date_col = c\n",
    "        break\n",
    "if date_col is None:\n",
    "    df = pd.read_excel(xlsx_path, sheet_name=xls.sheet_names[0], header=1)\n",
    "    print(\"헤더를 한 줄 내린 뒤 칼럼:\", list(df.columns))\n",
    "    for c in date_col_candidates:\n",
    "        if c in df.columns:\n",
    "            date_col = c\n",
    "            break\n",
    "\n",
    "\n",
    "assert date_col is not None, \"날짜/기간 칼럼을 찾지 못했어요. df.head()로 형태로 보여주세요\"\n",
    "\n",
    "#3) 브랜드 칼럼 후보(한글명 기준)\n",
    "brand_cols = [\"롬앤\",\"클리오\",\"에뛰드\",\"이니스프리\",\"닥터자르트\"]\n",
    "present_brands = [c for c in brand_cols if c in df.columns]\n",
    "assert present_brands, \"브랜드 칼럼을 찾지 못했어요. df.columns를 확인해 칼럼명을 알려주세요\"\n",
    "\n",
    "#4) 필요한 칼럼만 추출 & 칼럼 표준화\n",
    "use = [date_col] + present_brands\n",
    "df2 = df[use].copy()\n",
    "df2.rename(columns={date_col:\"date\"}, inplace=True)\n",
    "df2[\"date\"] = pd.to_datetime(df2[\"date\"])\n",
    "\n",
    "#5) 롱포맷으로 변환(brand, value)\n",
    "long = df2.melt(id_vars=\"date\", value_vars=present_brands,\n",
    "                 var_name=\"brand_ko\", value_name=\"search_index\")\n",
    "\n",
    "#영문 키로도 하나 만들기 (분석 편의)\n",
    "ko2en = {\"롬앤\":\"romand\",\"클리오\":\"clio\",\"에뛰드\":\"etude\",\"이니스프리\":\"innisfree\",\"닥터자르트\":\"drjart\"}\n",
    "long[\"brand\"] = long[\"brand_ko\"].map(ko2en).fillna(longp[\"brand_ko\"])\n",
    "\n",
    "#6) 최근 3년만 필터\n",
    "long = long.sort_values(\"data\")\n",
    "\n",
    "#7)저장\n",
    "out_path = PROC / \"search_index.csv\"\n",
    "long.to_csv(out_path, index=False, encoding=\"utf-8\")\n",
    "print(f\"저장 완료 -> {out_path}\")\n",
    "long.head()"
   ]
  },
  {
   "cell_type": "code",
   "execution_count": 8,
   "id": "635e6330-fc64-4923-a6dd-5e31c5d52997",
   "metadata": {},
   "outputs": [
    {
     "name": "stdout",
     "output_type": "stream",
     "text": [
      "전체 시트 목록: ['개요']\n",
      "\n",
      "📄 시트명: 개요\n",
      "   url  \\\n",
      "0   주제   \n",
      "1   범위   \n",
      "2   기간   \n",
      "3   성별   \n",
      "4  연령대   \n",
      "\n",
      "  http://datalab.naver.com/keyword/trendResult.naver?hashKey=N_8e4ecd761f63d62d63bf1f7c3fb33ced  \n",
      "0                                                 통검                                             \n",
      "1                                                 합계                                             \n",
      "2                             주간 : 2022-01 ~ 2025-10                                             \n",
      "3                                          전체(여성,남성)                                             \n",
      "4                                                 전체                                             \n"
     ]
    },
    {
     "name": "stderr",
     "output_type": "stream",
     "text": [
      "C:\\Users\\hwayo\\AppData\\Local\\Packages\\PythonSoftwareFoundation.Python.3.11_qbz5n2kfra8p0\\LocalCache\\local-packages\\Python311\\site-packages\\openpyxl\\styles\\stylesheet.py:237: UserWarning: Workbook contains no default style, apply openpyxl's default\n",
      "  warn(\"Workbook contains no default style, apply openpyxl's default\")\n"
     ]
    }
   ],
   "source": [
    "import pandas as pd\n",
    "from pathlib import Path\n",
    "\n",
    "xlsx_path = Path(\"../data/raw/search_index_raw.xlsx\")\n",
    "\n",
    "xls = pd.ExcelFile(xlsx_path)\n",
    "print(\"전체 시트 목록:\", xls.sheet_names)\n",
    "\n",
    "# 각 시트별로 맨 윗부분 3줄씩 출력해보기\n",
    "for sheet in xls.sheet_names:\n",
    "    print(\"\\n📄 시트명:\", sheet)\n",
    "    try:\n",
    "        df = pd.read_excel(xlsx_path, sheet_name=sheet, nrows=5)\n",
    "        print(df.head())\n",
    "    except Exception as e:\n",
    "        print(\"읽기 실패:\", e)\n"
   ]
  },
  {
   "cell_type": "code",
   "execution_count": null,
   "id": "c90cad85-e801-45c6-9f69-18373fbfa000",
   "metadata": {},
   "outputs": [],
   "source": []
  }
 ],
 "metadata": {
  "kernelspec": {
   "display_name": "Python 3 (ipykernel)",
   "language": "python",
   "name": "python3"
  },
  "language_info": {
   "codemirror_mode": {
    "name": "ipython",
    "version": 3
   },
   "file_extension": ".py",
   "mimetype": "text/x-python",
   "name": "python",
   "nbconvert_exporter": "python",
   "pygments_lexer": "ipython3",
   "version": "3.11.9"
  }
 },
 "nbformat": 4,
 "nbformat_minor": 5
}
